{
 "cells": [
  {
   "cell_type": "code",
   "execution_count": 1,
   "id": "27fe7f5b",
   "metadata": {
    "_cell_guid": "b1076dfc-b9ad-4769-8c92-a6c4dae69d19",
    "_uuid": "8f2839f25d086af736a60e9eeb907d3b93b6e0e5",
    "execution": {
     "iopub.execute_input": "2025-10-17T03:37:30.617017Z",
     "iopub.status.busy": "2025-10-17T03:37:30.616696Z",
     "iopub.status.idle": "2025-10-17T03:37:53.216638Z",
     "shell.execute_reply": "2025-10-17T03:37:53.215514Z"
    },
    "papermill": {
     "duration": 22.606729,
     "end_time": "2025-10-17T03:37:53.218623",
     "exception": false,
     "start_time": "2025-10-17T03:37:30.611894",
     "status": "completed"
    },
    "tags": []
   },
   "outputs": [
    {
     "name": "stderr",
     "output_type": "stream",
     "text": [
      "2025-10-17 03:37:35.060089: E external/local_xla/xla/stream_executor/cuda/cuda_fft.cc:477] Unable to register cuFFT factory: Attempting to register factory for plugin cuFFT when one has already been registered\n",
      "WARNING: All log messages before absl::InitializeLog() is called are written to STDERR\n",
      "E0000 00:00:1760672255.345370      13 cuda_dnn.cc:8310] Unable to register cuDNN factory: Attempting to register factory for plugin cuDNN when one has already been registered\n",
      "E0000 00:00:1760672255.429015      13 cuda_blas.cc:1418] Unable to register cuBLAS factory: Attempting to register factory for plugin cuBLAS when one has already been registered\n",
      "/tmp/ipykernel_13/3305082411.py:4: MatplotlibDeprecationWarning: The seaborn styles shipped by Matplotlib are deprecated since 3.6, as they no longer correspond to the styles shipped by seaborn. However, they will remain available as 'seaborn-v0_8-<style>'. Alternatively, directly use the seaborn API instead.\n",
      "  plt.style.use('seaborn-whitegrid')\n"
     ]
    }
   ],
   "source": [
    "# Setup plotting\n",
    "import matplotlib.pyplot as plt\n",
    "from learntools.deep_learning_intro.dltools import animate_sgd\n",
    "plt.style.use('seaborn-whitegrid')\n",
    "# Set Matplotlib defaults\n",
    "plt.rc('figure', autolayout=True)\n",
    "plt.rc('axes', labelweight='bold', labelsize='large',\n",
    "       titleweight='bold', titlesize=18, titlepad=10)\n",
    "plt.rc('animation', html='html5')\n",
    "\n",
    "# Setup feedback system\n",
    "from learntools.core import binder\n",
    "binder.bind(globals())\n",
    "from learntools.deep_learning_intro.ex3 import *"
   ]
  },
  {
   "cell_type": "code",
   "execution_count": 2,
   "id": "1c5b2cab",
   "metadata": {
    "execution": {
     "iopub.execute_input": "2025-10-17T03:37:53.226379Z",
     "iopub.status.busy": "2025-10-17T03:37:53.225693Z",
     "iopub.status.idle": "2025-10-17T03:37:53.540178Z",
     "shell.execute_reply": "2025-10-17T03:37:53.538635Z"
    },
    "papermill": {
     "duration": 0.320141,
     "end_time": "2025-10-17T03:37:53.541986",
     "exception": false,
     "start_time": "2025-10-17T03:37:53.221845",
     "status": "completed"
    },
    "tags": []
   },
   "outputs": [
    {
     "name": "stdout",
     "output_type": "stream",
     "text": [
      "Input shape: [50]\n"
     ]
    },
    {
     "name": "stderr",
     "output_type": "stream",
     "text": [
      "/usr/local/lib/python3.11/dist-packages/sklearn/preprocessing/_encoders.py:868: FutureWarning: `sparse` was renamed to `sparse_output` in version 1.2 and will be removed in 1.4. `sparse_output` is ignored unless you leave `sparse` to its default value.\n",
      "  warnings.warn(\n"
     ]
    }
   ],
   "source": [
    "import numpy as np\n",
    "import pandas as pd\n",
    "from sklearn.preprocessing import StandardScaler, OneHotEncoder\n",
    "from sklearn.compose import make_column_transformer, make_column_selector\n",
    "from sklearn.model_selection import train_test_split\n",
    "\n",
    "fuel = pd.read_csv('../input/dl-course-data/fuel.csv')\n",
    "\n",
    "X = fuel.copy()\n",
    "# Remove target\n",
    "y = X.pop('FE')\n",
    "\n",
    "preprocessor = make_column_transformer(\n",
    "    (StandardScaler(),\n",
    "     make_column_selector(dtype_include=np.number)),\n",
    "    (OneHotEncoder(sparse=False),\n",
    "     make_column_selector(dtype_include=object)),\n",
    ")\n",
    "\n",
    "X = preprocessor.fit_transform(X)\n",
    "y = np.log(y) # log transform target instead of standardizing\n",
    "\n",
    "input_shape = [X.shape[1]]\n",
    "print(\"Input shape: {}\".format(input_shape))"
   ]
  },
  {
   "cell_type": "code",
   "execution_count": 3,
   "id": "f372f3c3",
   "metadata": {
    "execution": {
     "iopub.execute_input": "2025-10-17T03:37:53.549152Z",
     "iopub.status.busy": "2025-10-17T03:37:53.548825Z",
     "iopub.status.idle": "2025-10-17T03:37:53.584375Z",
     "shell.execute_reply": "2025-10-17T03:37:53.583376Z"
    },
    "papermill": {
     "duration": 0.041137,
     "end_time": "2025-10-17T03:37:53.586107",
     "exception": false,
     "start_time": "2025-10-17T03:37:53.544970",
     "status": "completed"
    },
    "tags": []
   },
   "outputs": [
    {
     "data": {
      "text/html": [
       "<div>\n",
       "<style scoped>\n",
       "    .dataframe tbody tr th:only-of-type {\n",
       "        vertical-align: middle;\n",
       "    }\n",
       "\n",
       "    .dataframe tbody tr th {\n",
       "        vertical-align: top;\n",
       "    }\n",
       "\n",
       "    .dataframe thead th {\n",
       "        text-align: right;\n",
       "    }\n",
       "</style>\n",
       "<table border=\"1\" class=\"dataframe\">\n",
       "  <thead>\n",
       "    <tr style=\"text-align: right;\">\n",
       "      <th></th>\n",
       "      <th>0</th>\n",
       "      <th>1</th>\n",
       "      <th>2</th>\n",
       "      <th>3</th>\n",
       "      <th>4</th>\n",
       "      <th>5</th>\n",
       "      <th>6</th>\n",
       "      <th>7</th>\n",
       "      <th>8</th>\n",
       "      <th>9</th>\n",
       "      <th>...</th>\n",
       "      <th>40</th>\n",
       "      <th>41</th>\n",
       "      <th>42</th>\n",
       "      <th>43</th>\n",
       "      <th>44</th>\n",
       "      <th>45</th>\n",
       "      <th>46</th>\n",
       "      <th>47</th>\n",
       "      <th>48</th>\n",
       "      <th>49</th>\n",
       "    </tr>\n",
       "  </thead>\n",
       "  <tbody>\n",
       "    <tr>\n",
       "      <th>0</th>\n",
       "      <td>0.913643</td>\n",
       "      <td>1.068005</td>\n",
       "      <td>0.524148</td>\n",
       "      <td>0.685653</td>\n",
       "      <td>-0.226455</td>\n",
       "      <td>0.391659</td>\n",
       "      <td>0.43492</td>\n",
       "      <td>0.463841</td>\n",
       "      <td>-0.447941</td>\n",
       "      <td>0.0</td>\n",
       "      <td>...</td>\n",
       "      <td>0.0</td>\n",
       "      <td>0.0</td>\n",
       "      <td>0.0</td>\n",
       "      <td>0.0</td>\n",
       "      <td>0.0</td>\n",
       "      <td>0.0</td>\n",
       "      <td>0.0</td>\n",
       "      <td>0.0</td>\n",
       "      <td>0.0</td>\n",
       "      <td>0.0</td>\n",
       "    </tr>\n",
       "    <tr>\n",
       "      <th>1</th>\n",
       "      <td>0.913643</td>\n",
       "      <td>1.068005</td>\n",
       "      <td>0.524148</td>\n",
       "      <td>0.685653</td>\n",
       "      <td>-0.226455</td>\n",
       "      <td>0.391659</td>\n",
       "      <td>0.43492</td>\n",
       "      <td>0.463841</td>\n",
       "      <td>-0.447941</td>\n",
       "      <td>0.0</td>\n",
       "      <td>...</td>\n",
       "      <td>0.0</td>\n",
       "      <td>0.0</td>\n",
       "      <td>0.0</td>\n",
       "      <td>0.0</td>\n",
       "      <td>0.0</td>\n",
       "      <td>0.0</td>\n",
       "      <td>0.0</td>\n",
       "      <td>0.0</td>\n",
       "      <td>0.0</td>\n",
       "      <td>0.0</td>\n",
       "    </tr>\n",
       "    <tr>\n",
       "      <th>2</th>\n",
       "      <td>0.530594</td>\n",
       "      <td>1.068005</td>\n",
       "      <td>0.524148</td>\n",
       "      <td>0.685653</td>\n",
       "      <td>-0.226455</td>\n",
       "      <td>0.391659</td>\n",
       "      <td>0.43492</td>\n",
       "      <td>0.463841</td>\n",
       "      <td>-0.447941</td>\n",
       "      <td>0.0</td>\n",
       "      <td>...</td>\n",
       "      <td>0.0</td>\n",
       "      <td>0.0</td>\n",
       "      <td>0.0</td>\n",
       "      <td>0.0</td>\n",
       "      <td>0.0</td>\n",
       "      <td>0.0</td>\n",
       "      <td>0.0</td>\n",
       "      <td>0.0</td>\n",
       "      <td>0.0</td>\n",
       "      <td>0.0</td>\n",
       "    </tr>\n",
       "    <tr>\n",
       "      <th>3</th>\n",
       "      <td>0.530594</td>\n",
       "      <td>1.068005</td>\n",
       "      <td>0.524148</td>\n",
       "      <td>0.685653</td>\n",
       "      <td>-0.226455</td>\n",
       "      <td>0.391659</td>\n",
       "      <td>0.43492</td>\n",
       "      <td>0.463841</td>\n",
       "      <td>-0.447941</td>\n",
       "      <td>0.0</td>\n",
       "      <td>...</td>\n",
       "      <td>0.0</td>\n",
       "      <td>0.0</td>\n",
       "      <td>0.0</td>\n",
       "      <td>0.0</td>\n",
       "      <td>0.0</td>\n",
       "      <td>0.0</td>\n",
       "      <td>0.0</td>\n",
       "      <td>0.0</td>\n",
       "      <td>0.0</td>\n",
       "      <td>0.0</td>\n",
       "    </tr>\n",
       "    <tr>\n",
       "      <th>4</th>\n",
       "      <td>1.296693</td>\n",
       "      <td>2.120794</td>\n",
       "      <td>0.524148</td>\n",
       "      <td>-1.458464</td>\n",
       "      <td>-0.226455</td>\n",
       "      <td>0.391659</td>\n",
       "      <td>0.43492</td>\n",
       "      <td>0.463841</td>\n",
       "      <td>-0.447941</td>\n",
       "      <td>0.0</td>\n",
       "      <td>...</td>\n",
       "      <td>0.0</td>\n",
       "      <td>0.0</td>\n",
       "      <td>0.0</td>\n",
       "      <td>0.0</td>\n",
       "      <td>0.0</td>\n",
       "      <td>0.0</td>\n",
       "      <td>0.0</td>\n",
       "      <td>0.0</td>\n",
       "      <td>0.0</td>\n",
       "      <td>0.0</td>\n",
       "    </tr>\n",
       "  </tbody>\n",
       "</table>\n",
       "<p>5 rows × 50 columns</p>\n",
       "</div>"
      ],
      "text/plain": [
       "         0         1         2         3         4         5        6   \\\n",
       "0  0.913643  1.068005  0.524148  0.685653 -0.226455  0.391659  0.43492   \n",
       "1  0.913643  1.068005  0.524148  0.685653 -0.226455  0.391659  0.43492   \n",
       "2  0.530594  1.068005  0.524148  0.685653 -0.226455  0.391659  0.43492   \n",
       "3  0.530594  1.068005  0.524148  0.685653 -0.226455  0.391659  0.43492   \n",
       "4  1.296693  2.120794  0.524148 -1.458464 -0.226455  0.391659  0.43492   \n",
       "\n",
       "         7         8    9   ...   40   41   42   43   44   45   46   47   48  \\\n",
       "0  0.463841 -0.447941  0.0  ...  0.0  0.0  0.0  0.0  0.0  0.0  0.0  0.0  0.0   \n",
       "1  0.463841 -0.447941  0.0  ...  0.0  0.0  0.0  0.0  0.0  0.0  0.0  0.0  0.0   \n",
       "2  0.463841 -0.447941  0.0  ...  0.0  0.0  0.0  0.0  0.0  0.0  0.0  0.0  0.0   \n",
       "3  0.463841 -0.447941  0.0  ...  0.0  0.0  0.0  0.0  0.0  0.0  0.0  0.0  0.0   \n",
       "4  0.463841 -0.447941  0.0  ...  0.0  0.0  0.0  0.0  0.0  0.0  0.0  0.0  0.0   \n",
       "\n",
       "    49  \n",
       "0  0.0  \n",
       "1  0.0  \n",
       "2  0.0  \n",
       "3  0.0  \n",
       "4  0.0  \n",
       "\n",
       "[5 rows x 50 columns]"
      ]
     },
     "execution_count": 3,
     "metadata": {},
     "output_type": "execute_result"
    }
   ],
   "source": [
    "fuel.head()\n",
    "\n",
    "pd.DataFrame(X[:10,:]).head()"
   ]
  },
  {
   "cell_type": "code",
   "execution_count": 4,
   "id": "7b7de928",
   "metadata": {
    "execution": {
     "iopub.execute_input": "2025-10-17T03:37:53.594226Z",
     "iopub.status.busy": "2025-10-17T03:37:53.593877Z",
     "iopub.status.idle": "2025-10-17T03:37:59.223739Z",
     "shell.execute_reply": "2025-10-17T03:37:59.222681Z"
    },
    "papermill": {
     "duration": 5.635732,
     "end_time": "2025-10-17T03:37:59.225414",
     "exception": false,
     "start_time": "2025-10-17T03:37:53.589682",
     "status": "completed"
    },
    "tags": []
   },
   "outputs": [],
   "source": [
    "import torch\n",
    "import torch.nn as nn\n",
    "\n",
    "class SimpleMLP(nn.Module):\n",
    "    def __init__(self, input_size):\n",
    "        super(SimpleMLP, self).__init__()\n",
    "        self.layer1 = nn.Linear(input_size, 128)\n",
    "        self.relu = nn.ReLU()\n",
    "        self.layer2 = nn.Linear(128, 128)\n",
    "        self.layer3 = nn.Linear(128, 64)\n",
    "        self.output_layer = nn.Linear(64, 1)\n",
    "\n",
    "    def forward(self, x):\n",
    "        x = self.relu(self.layer1(x))\n",
    "        x = self.relu(self.layer2(x))\n",
    "        x = self.relu(self.layer3(x))\n",
    "        x = self.output_layer(x)\n",
    "        return x\n",
    "\n",
    "# Assuming 'input_size' is defined somewhere in your code, e.g., input_size = 784 for MNIST\n",
    "input_size = 784  # Replace with your actual input dimension\n",
    "model = SimpleMLP(input_size)"
   ]
  },
  {
   "cell_type": "markdown",
   "id": "098cbe21",
   "metadata": {
    "papermill": {
     "duration": 0.002832,
     "end_time": "2025-10-17T03:37:59.231507",
     "exception": false,
     "start_time": "2025-10-17T03:37:59.228675",
     "status": "completed"
    },
    "tags": []
   },
   "source": [
    "# 1) Add Loss and Optimizer"
   ]
  },
  {
   "cell_type": "code",
   "execution_count": 5,
   "id": "c49027f5",
   "metadata": {
    "execution": {
     "iopub.execute_input": "2025-10-17T03:37:59.238770Z",
     "iopub.status.busy": "2025-10-17T03:37:59.238476Z",
     "iopub.status.idle": "2025-10-17T03:37:59.243090Z",
     "shell.execute_reply": "2025-10-17T03:37:59.242100Z"
    },
    "papermill": {
     "duration": 0.010132,
     "end_time": "2025-10-17T03:37:59.244636",
     "exception": false,
     "start_time": "2025-10-17T03:37:59.234504",
     "status": "completed"
    },
    "tags": []
   },
   "outputs": [],
   "source": [
    "import torch.optim as optim"
   ]
  },
  {
   "cell_type": "code",
   "execution_count": 6,
   "id": "37270a53",
   "metadata": {
    "execution": {
     "iopub.execute_input": "2025-10-17T03:37:59.252653Z",
     "iopub.status.busy": "2025-10-17T03:37:59.251786Z",
     "iopub.status.idle": "2025-10-17T03:38:05.421770Z",
     "shell.execute_reply": "2025-10-17T03:38:05.420452Z"
    },
    "papermill": {
     "duration": 6.175928,
     "end_time": "2025-10-17T03:38:05.423688",
     "exception": false,
     "start_time": "2025-10-17T03:37:59.247760",
     "status": "completed"
    },
    "tags": []
   },
   "outputs": [],
   "source": [
    "criterion = nn.L1Loss() # 'mae' (Mean Absolute Error) is L1 Loss in PyTorch\n",
    "\n",
    "optimizer = optim.Adam(model.parameters(), lr=0.001) # Default Keras learning rate is usually 0.001"
   ]
  },
  {
   "cell_type": "markdown",
   "id": "000a5d37",
   "metadata": {
    "papermill": {
     "duration": 0.002728,
     "end_time": "2025-10-17T03:38:05.429641",
     "exception": false,
     "start_time": "2025-10-17T03:38:05.426913",
     "status": "completed"
    },
    "tags": []
   },
   "source": [
    "# 2) Train Model"
   ]
  },
  {
   "cell_type": "code",
   "execution_count": 7,
   "id": "35761eef",
   "metadata": {
    "execution": {
     "iopub.execute_input": "2025-10-17T03:38:05.437515Z",
     "iopub.status.busy": "2025-10-17T03:38:05.436804Z",
     "iopub.status.idle": "2025-10-17T03:38:08.134645Z",
     "shell.execute_reply": "2025-10-17T03:38:08.133354Z"
    },
    "papermill": {
     "duration": 2.703736,
     "end_time": "2025-10-17T03:38:08.136300",
     "exception": false,
     "start_time": "2025-10-17T03:38:05.432564",
     "status": "completed"
    },
    "tags": []
   },
   "outputs": [
    {
     "name": "stdout",
     "output_type": "stream",
     "text": [
      "Epoch [1/50], Loss: 3.5400\n",
      "Epoch [2/50], Loss: 3.5045\n",
      "Epoch [3/50], Loss: 3.5719\n",
      "Epoch [4/50], Loss: 3.5056\n",
      "Epoch [5/50], Loss: 3.4754\n",
      "Epoch [6/50], Loss: 3.4861\n",
      "Epoch [7/50], Loss: 3.4857\n",
      "Epoch [8/50], Loss: 3.5191\n",
      "Epoch [9/50], Loss: 3.4447\n",
      "Epoch [10/50], Loss: 3.5106\n",
      "Epoch [11/50], Loss: 3.5719\n",
      "Epoch [12/50], Loss: 3.5096\n",
      "Epoch [13/50], Loss: 3.4901\n",
      "Epoch [14/50], Loss: 3.5348\n",
      "Epoch [15/50], Loss: 3.4786\n",
      "Epoch [16/50], Loss: 3.4534\n",
      "Epoch [17/50], Loss: 3.4891\n",
      "Epoch [18/50], Loss: 3.4459\n",
      "Epoch [19/50], Loss: 3.4529\n",
      "Epoch [20/50], Loss: 3.4685\n",
      "Epoch [21/50], Loss: 3.5186\n",
      "Epoch [22/50], Loss: 3.5717\n",
      "Epoch [23/50], Loss: 3.5617\n",
      "Epoch [24/50], Loss: 3.4385\n",
      "Epoch [25/50], Loss: 3.4931\n",
      "Epoch [26/50], Loss: 3.5994\n",
      "Epoch [27/50], Loss: 3.5188\n",
      "Epoch [28/50], Loss: 3.4105\n",
      "Epoch [29/50], Loss: 3.5799\n",
      "Epoch [30/50], Loss: 3.5574\n",
      "Epoch [31/50], Loss: 3.4591\n",
      "Epoch [32/50], Loss: 3.4969\n",
      "Epoch [33/50], Loss: 3.5497\n",
      "Epoch [34/50], Loss: 3.5332\n",
      "Epoch [35/50], Loss: 3.4801\n",
      "Epoch [36/50], Loss: 3.3962\n",
      "Epoch [37/50], Loss: 3.4564\n",
      "Epoch [38/50], Loss: 3.4443\n",
      "Epoch [39/50], Loss: 3.5994\n",
      "Epoch [40/50], Loss: 3.4947\n",
      "Epoch [41/50], Loss: 3.5394\n",
      "Epoch [42/50], Loss: 3.5352\n",
      "Epoch [43/50], Loss: 3.6036\n",
      "Epoch [44/50], Loss: 3.5504\n",
      "Epoch [45/50], Loss: 3.5616\n",
      "Epoch [46/50], Loss: 3.5646\n",
      "Epoch [47/50], Loss: 3.5183\n",
      "Epoch [48/50], Loss: 3.5762\n",
      "Epoch [49/50], Loss: 3.5836\n",
      "Epoch [50/50], Loss: 3.6281\n"
     ]
    }
   ],
   "source": [
    "import torch\n",
    "from torch.utils.data import TensorDataset, DataLoader\n",
    "\n",
    "input_size = input_shape[0]  # This will be 50\n",
    "model = SimpleMLP(input_size)\n",
    "\n",
    "# Convert numpy arrays to PyTorch Tensors\n",
    "X_tensor = torch.tensor(X, dtype=torch.float32)\n",
    "y_tensor = torch.tensor(y, dtype=torch.float32).view(-1, 1)\n",
    "\n",
    "# Create a TensorDataset and DataLoader for batching\n",
    "dataset = TensorDataset(X_tensor, y_tensor)\n",
    "dataloader = DataLoader(dataset, batch_size=32, shuffle=True) # Adjust batch_size as needed\n",
    "\n",
    "# Define training parameters\n",
    "num_epochs = 50 # Or a different number\n",
    "\n",
    "# Training loop\n",
    "for epoch in range(num_epochs):\n",
    "    for X_batch, y_batch in dataloader:\n",
    "        # 1. Zero the gradients\n",
    "        optimizer.zero_grad()\n",
    "\n",
    "        # 2. Forward pass\n",
    "        outputs = model(X_batch)\n",
    "\n",
    "        # 3. Calculate the loss\n",
    "        loss = criterion(outputs, y_batch)\n",
    "\n",
    "        # 4. Backward pass\n",
    "        loss.backward()\n",
    "\n",
    "        # 5. Update weights\n",
    "        optimizer.step()\n",
    "\n",
    "    print(f\"Epoch [{epoch+1}/{num_epochs}], Loss: {loss.item():.4f}\")\n",
    "\n",
    "# After the loop, you can evaluate the model on new data."
   ]
  },
  {
   "cell_type": "code",
   "execution_count": null,
   "id": "85c5bf79",
   "metadata": {
    "papermill": {
     "duration": 0.00432,
     "end_time": "2025-10-17T03:38:08.145342",
     "exception": false,
     "start_time": "2025-10-17T03:38:08.141022",
     "status": "completed"
    },
    "tags": []
   },
   "outputs": [],
   "source": []
  },
  {
   "cell_type": "code",
   "execution_count": null,
   "id": "ee872f33",
   "metadata": {
    "papermill": {
     "duration": 0.0033,
     "end_time": "2025-10-17T03:38:08.152913",
     "exception": false,
     "start_time": "2025-10-17T03:38:08.149613",
     "status": "completed"
    },
    "tags": []
   },
   "outputs": [],
   "source": []
  }
 ],
 "metadata": {
  "kaggle": {
   "accelerator": "none",
   "dataSources": [
    {
     "datasetId": 829369,
     "sourceId": 1480608,
     "sourceType": "datasetVersion"
    }
   ],
   "dockerImageVersionId": 31153,
   "isGpuEnabled": false,
   "isInternetEnabled": true,
   "language": "python",
   "sourceType": "notebook"
  },
  "kernelspec": {
   "display_name": "Python 3",
   "language": "python",
   "name": "python3"
  },
  "language_info": {
   "codemirror_mode": {
    "name": "ipython",
    "version": 3
   },
   "file_extension": ".py",
   "mimetype": "text/x-python",
   "name": "python",
   "nbconvert_exporter": "python",
   "pygments_lexer": "ipython3",
   "version": "3.11.13"
  },
  "papermill": {
   "default_parameters": {},
   "duration": 46.424129,
   "end_time": "2025-10-17T03:38:11.854478",
   "environment_variables": {},
   "exception": null,
   "input_path": "__notebook__.ipynb",
   "output_path": "__notebook__.ipynb",
   "parameters": {},
   "start_time": "2025-10-17T03:37:25.430349",
   "version": "2.6.0"
  }
 },
 "nbformat": 4,
 "nbformat_minor": 5
}
